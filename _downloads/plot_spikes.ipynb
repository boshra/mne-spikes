{
  "cells": [
    {
      "cell_type": "code",
      "execution_count": null,
      "metadata": {
        "collapsed": false
      },
      "outputs": [],
      "source": [
        "%matplotlib inline"
      ]
    },
    {
      "cell_type": "markdown",
      "metadata": {},
      "source": [
        "\nPlot a spike raster with MNE\n----------------------------\n\nConverting spike times to an MNE object, then plotting.\n\nFirst we'll generate a bunch of random spike times, corresponding to\nseveral trials of activity. We'll convert these into an mne-spikes ``Neuron``\nobject, then convert this to MNE so we can plot.\n\n"
      ]
    },
    {
      "cell_type": "code",
      "execution_count": null,
      "metadata": {
        "collapsed": false
      },
      "outputs": [],
      "source": [
        "from mnespikes import Neuron\nimport numpy as np\nimport matplotlib.pyplot as plt\n\nsfreq = 100\nn_trials = 10\ntime_mean = .5\nspikes_per_trial = [np.random.randint(25, 50) for _ in range(n_trials)]\nspiketimes = np.array([.1 * np.random.randn(ii) + time_mean\n                       for ii in spikes_per_trial])\n# Each item is a list of spike times\nprint(spiketimes[:2])"
      ]
    },
    {
      "cell_type": "markdown",
      "metadata": {},
      "source": [
        "Now we'll convert to a Neuron object. We can easily export this to a NumPy\narray, or to an MNE object.\n\n"
      ]
    },
    {
      "cell_type": "code",
      "execution_count": null,
      "metadata": {
        "collapsed": false
      },
      "outputs": [],
      "source": [
        "event_name = 'event!'\nneuron = Neuron(spiketimes, sfreq=sfreq, tmin=-.1, tmax=1.5,\n                events=[event_name] * len(spiketimes))\nprint(neuron)\nprint(neuron.spikes.shape)"
      ]
    },
    {
      "cell_type": "markdown",
      "metadata": {},
      "source": [
        "Now convert to an MNE object, which lets us do fancier plotting / analysis.\n\n"
      ]
    },
    {
      "cell_type": "code",
      "execution_count": null,
      "metadata": {
        "collapsed": false
      },
      "outputs": [],
      "source": [
        "epochs = neuron.to_mne()\nfig = epochs.plot_image([0], show=False)\nplt.setp(fig[0].axes[1], ylim=[0, None], ylabel='spikes / s')\nplt.show()"
      ]
    }
  ],
  "metadata": {
    "kernelspec": {
      "display_name": "Python 3",
      "language": "python",
      "name": "python3"
    },
    "language_info": {
      "codemirror_mode": {
        "name": "ipython",
        "version": 3
      },
      "file_extension": ".py",
      "mimetype": "text/x-python",
      "name": "python",
      "nbconvert_exporter": "python",
      "pygments_lexer": "ipython3",
      "version": "3.6.1"
    }
  },
  "nbformat": 4,
  "nbformat_minor": 0
}